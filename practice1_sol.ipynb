{
 "cells": [
  {
   "cell_type": "markdown",
   "metadata": {},
   "source": [
    "# Please find all h1 tags in the following link  \n",
    "url: https://www.ntub.edu.tw/"
   ]
  },
  {
   "cell_type": "code",
   "execution_count": 7,
   "metadata": {},
   "outputs": [
    {
     "name": "stdout",
     "output_type": "stream",
     "text": [
      "<a class=\"focusable\" href=\"#start-C\" title=\"跳到主要內容區塊\">跳到主要內容區塊</a>\n",
      "<a href=\"/index.php?Lang=en\" title=\"English\">English</a>\n",
      "<a href=\"/p/412-1000-3951.php?Lang=zh-tw\" title=\"訪客\">訪　客</a>\n",
      "<a href=\"/p/412-1000-3952.php?Lang=zh-tw\" title=\"校友\">校　友</a>\n",
      "<a href=\"/p/412-1000-3935.php?Lang=zh-tw\" title=\"境外生\">境外生</a>\n",
      "<a href=\"/p/412-1000-3937.php?Lang=zh-tw\" title=\"教職員\">教職員</a>\n",
      "<a href=\"/p/412-1000-3936.php?Lang=zh-tw\" title=\"學生\">學　生</a>\n",
      "<a href=\"/p/412-1000-3925.php?Lang=zh-tw\" title=\"教學單位\">教學單位</a>\n",
      "<a href=\"/p/412-1000-3926.php?Lang=zh-tw\" title=\"行政單位\">行政單位</a>\n",
      "<a href=\"/p/412-1000-3931.php?Lang=zh-tw\" title=\"附設學校\">附設學校</a>\n",
      "<a href=\"http://hesp.ntub.edu.tw/\" title=\"深耕計畫\">深耕計畫</a>\n",
      "<a href=\"/index.php\"><img alt=\"NTUB LOGO\" src=\"/var/file/0/1000/img/1595/logo.png\"/> </a>\n",
      "<a href=\"/app/index.php?Plugin=mobile&amp;Action=mobileads&amp;ad=5151\" title=\"\">\n",
      "<img alt=\"ImgDesc\" class=\"img-responsive madv-img\" src=\"/var/file/0/1000/randimg/mobileadv_5151_7491246_25847.jpg\"/>\n",
      "</a>\n",
      "<a href=\"/app/index.php?Plugin=mobile&amp;Action=mobileads&amp;ad=5150\" title=\"\">\n",
      "<img alt=\"ImgDesc\" class=\"img-responsive madv-img\" src=\"/var/file/0/1000/randimg/mobileadv_5150_6381331_25837.jpg\"/>\n",
      "</a>\n",
      "<a href=\"/app/index.php?Plugin=mobile&amp;Action=mobileads&amp;ad=5149\" title=\"\">\n",
      "<img alt=\"ImgDesc\" class=\"img-responsive madv-img\" src=\"/var/file/0/1000/randimg/mobileadv_5149_4804406_25812.jpg\"/>\n",
      "</a>\n",
      "<a href=\"/app/index.php?Plugin=mobile&amp;Action=mobileads&amp;ad=5146\" title=\"\">\n",
      "<img alt=\"ImgDesc\" class=\"img-responsive madv-img\" src=\"/var/file/0/1000/randimg/mobileadv_5146_4765824_49754.png\"/>\n",
      "</a>\n",
      "<a href=\"/app/index.php?Plugin=mobile&amp;Action=mobileads&amp;ad=5145\" title=\"\">\n",
      "<img alt=\"ImgDesc\" class=\"img-responsive madv-img\" src=\"/var/file/0/1000/randimg/mobileadv_5145_3064016_49736.jpg\"/>\n",
      "</a>\n",
      "<a href=\"/app/index.php?Plugin=mobile&amp;Action=mobileads&amp;ad=4605\" title=\"\">\n",
      "<img alt=\"ImgDesc\" class=\"img-responsive madv-img\" src=\"/var/file/0/1000/randimg/mobileadv_4605_6864864_21876.jpg\"/>\n",
      "</a>\n",
      "<a href=\"/app/index.php?Plugin=mobile&amp;Action=mobileads&amp;ad=5110\" title=\"\">\n",
      "<img alt=\"ImgDesc\" class=\"img-responsive madv-img\" src=\"/var/file/0/1000/randimg/mobileadv_5110_1407819_10265.jpg\"/>\n",
      "</a>\n",
      "<a href=\"/app/index.php?Plugin=mobile&amp;Action=mobileads&amp;ad=5036\" title=\"\">\n",
      "<img alt=\"ImgDesc\" class=\"img-responsive madv-img\" src=\"/var/file/0/1000/randimg/mobileadv_5036_4442957_19581.jpg\"/>\n",
      "</a>\n",
      "<a href=\"/app/index.php?Plugin=mobile&amp;Action=mobileads&amp;ad=5107\" title=\"\">\n",
      "<img alt=\"ImgDesc\" class=\"img-responsive madv-img\" src=\"/var/file/0/1000/randimg/mobileadv_5107_7535360_19562.jpg\"/>\n",
      "</a>\n",
      "<a href=\"/app/index.php?Plugin=mobile&amp;Action=mobileads&amp;ad=5106\" title=\"\">\n",
      "<img alt=\"ImgDesc\" class=\"img-responsive madv-img\" src=\"/var/file/0/1000/randimg/mobileadv_5106_4503860_19464.jpg\"/>\n",
      "</a>\n",
      "<a href=\"/app/index.php?Plugin=mobile&amp;Action=mobileads&amp;ad=5105\" title=\"\">\n",
      "<img alt=\"ImgDesc\" class=\"img-responsive madv-img\" src=\"/var/file/0/1000/randimg/mobileadv_5105_6180992_19454.jpg\"/>\n",
      "</a>\n",
      "<a href=\"/app/index.php?Plugin=mobile&amp;Action=mobileads&amp;ad=5104\" title=\"\">\n",
      "<img alt=\"ImgDesc\" class=\"img-responsive madv-img\" src=\"/var/file/0/1000/randimg/mobileadv_5104_758818_19440.jpg\"/>\n",
      "</a>\n",
      "<a href=\"/app/index.php?Plugin=mobile&amp;Action=mobileads&amp;ad=5103\" title=\"\">\n",
      "<img alt=\"ImgDesc\" class=\"img-responsive madv-img\" src=\"/var/file/0/1000/randimg/mobileadv_5103_2456755_19408.jpg\"/>\n",
      "</a>\n",
      "<a href=\"/app/index.php?Plugin=mobile&amp;Action=mobileads&amp;ad=5051\" title=\"\">\n",
      "<img alt=\"ImgDesc\" class=\"img-responsive madv-img\" src=\"/var/file/0/1000/randimg/mobileadv_5051_6192312_92751.jpg\"/>\n",
      "</a>\n",
      "<a href=\"/app/index.php?Plugin=mobile&amp;Action=mobileads&amp;ad=5021\" title=\"\">\n",
      "<img alt=\"ImgDesc\" class=\"img-responsive madv-img\" src=\"/var/file/0/1000/randimg/mobileadv_5021_482447_74130.png\"/>\n",
      "</a>\n",
      "<a href=\"/app/index.php?Plugin=mobile&amp;Action=mobileads&amp;ad=5008\" title=\"\">\n",
      "<img alt=\"ImgDesc\" class=\"img-responsive madv-img\" src=\"/var/file/0/1000/randimg/mobileadv_5008_4801604_26109.png\"/>\n",
      "</a>\n",
      "<a href=\"/app/index.php?Plugin=mobile&amp;Action=mobileads&amp;ad=5002\" title=\"\">\n",
      "<img alt=\"ImgDesc\" class=\"img-responsive madv-img\" src=\"/var/file/0/1000/randimg/mobileadv_5002_315596_78516.png\"/>\n",
      "</a>\n",
      "<a>\n",
      "<img alt=\"ImgDesc\" class=\"img-responsive madv-img\" src=\"/var/file/0/1000/randimg/mobileadv_4968_2027855_16655.jpg\"/>\n",
      "</a>\n",
      "<a href=\"/app/index.php?Plugin=mobile&amp;Action=mobileads&amp;ad=4956\" title=\"\">\n",
      "<img alt=\"ImgDesc\" class=\"img-responsive madv-img\" src=\"/var/file/0/1000/randimg/mobileadv_4956_4916023_53492.jpg\"/>\n",
      "</a>\n",
      "<a>\n",
      "<img alt=\"ImgDesc\" class=\"img-responsive madv-img\" src=\"/var/file/0/1000/randimg/mobilead_4837_4949621_56073.jpg\"/>\n",
      "</a>\n",
      "<a>\n",
      "<img alt=\"ImgDesc\" class=\"img-responsive madv-img\" src=\"/var/file/0/1000/randimg/mobilead_4836_6305135_41929.jpg\"/>\n",
      "</a>\n",
      "<a href=\"/app/index.php?Plugin=mobile&amp;Action=mobileads&amp;ad=4632\" title=\"\">\n",
      "<img alt=\"ImgDesc\" class=\"img-responsive madv-img\" src=\"/var/file/0/1000/randimg/mobilead_4632_2615680_02065.png\"/>\n",
      "</a>\n",
      "<a href=\"/app/index.php?Plugin=mobile&amp;Action=mobileads&amp;ad=4558\" title=\"\">\n",
      "<img alt=\"ImgDesc\" class=\"img-responsive madv-img\" src=\"/var/file/0/1000/randimg/mobilead_4558_5614722_67162.jpg\"/>\n",
      "</a>\n",
      "<a href=\"/app/index.php?Plugin=mobile&amp;Action=mobileads&amp;ad=4418\" title=\"\">\n",
      "<img alt=\"ImgDesc\" class=\"img-responsive madv-img\" src=\"/var/file/0/1000/randimg/ad_4418_2477630_05863.jpg\"/>\n",
      "</a>\n",
      "<a href=\"https://stud.ntub.edu.tw/p/426-1007-3.php?Lang=zh-tw\" target=\"_blank\" title=\"因應緊急嚴重特殊傳染性肺炎防治措施與相關資訊\"><span style=\"color:whitesmoke ; font-size:1.4em\">因應緊急嚴重特殊傳染性肺炎防治措施與相關資訊 &gt;&gt;</span></a>\n",
      "<a href=\"https://acad.ntub.edu.tw/p/404-1004-75289-1.php?Lang=zh-tw\" title=\"【桃園校區】投資理財課程~跟隨大戶在股市輕鬆賺第2期~熱烈招生中!!!\"><img class=\"img-responsive\" src=\"/var/file/4/1004/pictures/278/m/part_75289_1455496_53055.jpg\"/></a>\n",
      "<a href=\"https://acad.ntub.edu.tw/p/404-1004-75289-1.php?Lang=zh-tw\" title=\"【桃園校區】投資理財課程~跟隨大戶在股市輕鬆賺第2期~熱烈招生中!!!\">\n",
      "\t\t\t\t【桃園校區】投資理財課程~跟隨大戶在股市輕鬆賺第2期~熱烈招生中!!!\n",
      "\t\t\t</a>\n",
      "<a href=\"https://acad.ntub.edu.tw/p/404-1004-76317-1.php?Lang=zh-tw\" title=\"【桃園校區】108學年度第2學期「不動產經紀人證照輔導班」熱烈招生中!!!\"><img class=\"img-responsive\" src=\"/var/file/4/1004/pictures/18/m/part_76317_6640511_51591.jpg\"/></a>\n",
      "<a href=\"https://acad.ntub.edu.tw/p/404-1004-76317-1.php?Lang=zh-tw\" title=\"【桃園校區】108學年度第2學期「不動產經紀人證照輔導班」熱烈招生中!!!\">\n",
      "\t\t\t\t【桃園校區】108學年度第2學期「不動產經紀人證照輔導班」熱烈招生中!!!\n",
      "\t\t\t</a>\n",
      "<a href=\"https://rd.ntub.edu.tw/p/404-1005-76707-1.php?Lang=zh-tw\" title=\"【研發處就輔組-提升高教公共性】揪伴找投路專案(延至4/10)\"><img class=\"img-responsive\" src=\"/var/file/5/1005/pictures/293/m/part_76707_6804646_49504.jpg\"/></a>\n",
      "<a href=\"http://get.ntub.edu.tw/News/Detail/f8eab082-668a-4117-81fe-c0c4ef722b69\" title=\"【研發處就輔組-提升高教公共性】揪伴找投路專案(延至4/10)\">\n",
      "\t\t\t\t【研發處就輔組-提升高教公共性】揪伴找投路專案(延至4/10)\n",
      "\t\t\t</a>\n",
      "<a href=\"https://www.ntub.edu.tw/p/422-1000-1018.php?Lang=zh-tw\"> more</a>\n",
      "<a data-toggle=\"tab\" href=\"#cmb_157_0\" id=\"sm_ae8884e58979b03d35d289632da29c341_0\" tabindex=\"0\" title=\"訊息公告\">訊息公告</a>\n",
      "<a data-toggle=\"tab\" href=\"#cmb_157_1\" id=\"sm_ae8884e58979b03d35d289632da29c341_1\" tabindex=\"-1\" title=\"學術研討\">學術研討</a>\n",
      "<a data-toggle=\"tab\" href=\"#cmb_157_2\" id=\"sm_ae8884e58979b03d35d289632da29c341_2\" tabindex=\"-1\" title=\"榮譽講座\">榮譽講座</a>\n",
      "<a data-toggle=\"tab\" href=\"#cmb_157_3\" id=\"sm_ae8884e58979b03d35d289632da29c341_3\" tabindex=\"-1\" title=\"招生動態\">招生動態</a>\n",
      "<a data-toggle=\"tab\" href=\"#cmb_157_4\" id=\"sm_ae8884e58979b03d35d289632da29c341_4\" tabindex=\"-1\" title=\"徵才快訊\">徵才快訊</a>\n",
      "<a data-toggle=\"tab\" href=\"#cmb_157_5\" id=\"sm_ae8884e58979b03d35d289632da29c341_5\" tabindex=\"-1\" title=\"桃園校區\">桃園校區</a>\n",
      "<a href=\"\" id=\"sm_ae8884e58979b03d35d289632da29c341_0_href\" onkeyup=\"\n",
      "\t\t\t\t\t\t$(this).css('display','none');\n",
      "\t\t\t\t\t\t$('#ae8884e58979b03d35d289632da29c341_Div .nav-tabs li:eq(0) a').attr('tabindex','-1');\n",
      "\t\t\t\t\t\t$('#ae8884e58979b03d35d289632da29c341_Div .nav-tabs li:eq(1) a').attr('tabindex','0');\n",
      "\t\t\t\t\t\t$('#sm_ae8884e58979b03d35d289632da29c341_1_href').css('display','');\n",
      "\t\t\t\t\t\t$('#sm_ae8884e58979b03d35d289632da29c341_1').focus();\n",
      "\t\t\t\t\t\t$('#ae8884e58979b03d35d289632da29c341_Div .nav-tabs li:eq(1) a').tab('show');\"><img alt=\"\" src=\"/images/clear.gif\"/></a>\n",
      "<a href=\"\" id=\"sm_ae8884e58979b03d35d289632da29c341_1_href\" onkeyup=\"\n",
      "\t\t\t\t\t\t$(this).css('display','none');\n",
      "\t\t\t\t\t\t$('#ae8884e58979b03d35d289632da29c341_Div .nav-tabs li:eq(1) a').attr('tabindex','-1');\n",
      "\t\t\t\t\t\t$('#ae8884e58979b03d35d289632da29c341_Div .nav-tabs li:eq(2) a').attr('tabindex','0');\n",
      "\t\t\t\t\t\t$('#sm_ae8884e58979b03d35d289632da29c341_2_href').css('display','');\n",
      "\t\t\t\t\t\t$('#sm_ae8884e58979b03d35d289632da29c341_2').focus();\n",
      "\t\t\t\t\t\t$('#ae8884e58979b03d35d289632da29c341_Div .nav-tabs li:eq(2) a').tab('show');\"><img alt=\"\" src=\"/images/clear.gif\"/></a>\n",
      "<a href=\"\" id=\"sm_ae8884e58979b03d35d289632da29c341_2_href\" onkeyup=\"\n",
      "\t\t\t\t\t\t$(this).css('display','none');\n",
      "\t\t\t\t\t\t$('#ae8884e58979b03d35d289632da29c341_Div .nav-tabs li:eq(2) a').attr('tabindex','-1');\n",
      "\t\t\t\t\t\t$('#ae8884e58979b03d35d289632da29c341_Div .nav-tabs li:eq(3) a').attr('tabindex','0');\n",
      "\t\t\t\t\t\t$('#sm_ae8884e58979b03d35d289632da29c341_3_href').css('display','');\n",
      "\t\t\t\t\t\t$('#sm_ae8884e58979b03d35d289632da29c341_3').focus();\n",
      "\t\t\t\t\t\t$('#ae8884e58979b03d35d289632da29c341_Div .nav-tabs li:eq(3) a').tab('show');\"><img alt=\"\" src=\"/images/clear.gif\"/></a>\n",
      "<a href=\"\" id=\"sm_ae8884e58979b03d35d289632da29c341_3_href\" onkeyup=\"\n",
      "\t\t\t\t\t\t$(this).css('display','none');\n",
      "\t\t\t\t\t\t$('#ae8884e58979b03d35d289632da29c341_Div .nav-tabs li:eq(3) a').attr('tabindex','-1');\n",
      "\t\t\t\t\t\t$('#ae8884e58979b03d35d289632da29c341_Div .nav-tabs li:eq(4) a').attr('tabindex','0');\n",
      "\t\t\t\t\t\t$('#sm_ae8884e58979b03d35d289632da29c341_4_href').css('display','');\n",
      "\t\t\t\t\t\t$('#sm_ae8884e58979b03d35d289632da29c341_4').focus();\n",
      "\t\t\t\t\t\t$('#ae8884e58979b03d35d289632da29c341_Div .nav-tabs li:eq(4) a').tab('show');\"><img alt=\"\" src=\"/images/clear.gif\"/></a>\n",
      "<a href=\"\" id=\"sm_ae8884e58979b03d35d289632da29c341_4_href\" onkeyup=\"\n",
      "\t\t\t\t\t\t$(this).css('display','none');\n",
      "\t\t\t\t\t\t$('#ae8884e58979b03d35d289632da29c341_Div .nav-tabs li:eq(4) a').attr('tabindex','-1');\n",
      "\t\t\t\t\t\t$('#ae8884e58979b03d35d289632da29c341_Div .nav-tabs li:eq(5) a').attr('tabindex','0');\n",
      "\t\t\t\t\t\t$('#sm_ae8884e58979b03d35d289632da29c341_5_href').css('display','');\n",
      "\t\t\t\t\t\t$('#sm_ae8884e58979b03d35d289632da29c341_5').focus();\n",
      "\t\t\t\t\t\t$('#ae8884e58979b03d35d289632da29c341_Div .nav-tabs li:eq(5) a').tab('show');\"><img alt=\"\" src=\"/images/clear.gif\"/></a>\n",
      "<a href=\"\" id=\"sm_ae8884e58979b03d35d289632da29c341_5_href\" onblur=\"\n",
      "\t\t\t\t\t\t$(this).css('display','none');\n",
      "\t\t\t\t\t\t$('#ae8884e58979b03d35d289632da29c341_Div .nav-tabs li:eq(0) a').tab('show');\n",
      "\t\t\t\t\t\t$('#ae8884e58979b03d35d289632da29c341_Div .nav-tabs li:eq(5) a').attr('tabindex','-1');\n",
      "\t\t\t\t\t\t$('#ae8884e58979b03d35d289632da29c341_Div .nav-tabs li:eq(0) a').attr('tabindex','0');\n",
      "\t\t\t\t\t\t$('#sm_ae8884e58979b03d35d289632da29c341_0_href').css('display','');\n",
      "\t\t\t\t\t\t\">\n",
      "<img alt=\"\" src=\"/images/clear.gif\"/></a>\n",
      "<a class=\"active\" title=\"繁體\"><span>繁體</span></a>\n",
      "<a href=\"#\" onclick=\"openLangUrl('en');return false;\" title=\"English\"><span>English</span></a>\n",
      "<a href=\"/index.php\" title=\"NTUB\"><img src=\"/var/file/0/1000/img/1595/bt_logo.png\"/> </a>\n",
      "<a href=\"https://www.facebook.com/NTUB1917\" target=\"_blank\" title=\"NTUB FaceBook\"><img src=\"/var/file/0/1000/img/1595/fb.png\"/> </a>\n"
     ]
    }
   ],
   "source": [
    "# -*- coding: utf-8 -*-\n",
    "import requests\n",
    "from bs4 import BeautifulSoup\n",
    "\n",
    "response = requests.get('https://www.ntub.edu.tw/')\n",
    "response.encoding = 'utf-8'\n",
    "\n",
    "soup = BeautifulSoup(response.text, 'html.parser')\n",
    "all_links = soup.find_all('a')\n",
    "\n",
    "for link in all_links:\n",
    "    print(link)"
   ]
  },
  {
   "cell_type": "markdown",
   "metadata": {},
   "source": [
    "# Please find how many movie in Banqiao in the following page\n",
    "url: https://www.vscinemas.com.tw/ShowTimes/"
   ]
  },
  {
   "cell_type": "code",
   "execution_count": 24,
   "metadata": {},
   "outputs": [
    {
     "name": "stdout",
     "output_type": "stream",
     "text": [
      "27\n"
     ]
    }
   ],
   "source": [
    "# -*- coding: utf-8 -*-\n",
    "import requests\n",
    "from bs4 import BeautifulSoup\n",
    "\n",
    "payload = {\n",
    "\n",
    "\"CinemaCode\":\"BQ\"\n",
    "    \n",
    "}\n",
    "\n",
    "response = requests.post(\"https://www.vscinemas.com.tw/ShowTimes//ShowTimes/GetShowTimes\", data = payload)\n",
    "#print(response.text)\n",
    "soup = BeautifulSoup(response.text, 'html.parser')\n",
    "s_tags = soup.find_all(\"strong\",{\"class\":\"col-xs-12 LangTW MovieName\"})\n",
    "print(len(s_tags))"
   ]
  },
  {
   "cell_type": "markdown",
   "metadata": {},
   "source": [
    "# Please grab emails in the following link.  \n",
    "url: https://isaac60103.github.io/crawl_course/practice/email_list.html"
   ]
  },
  {
   "cell_type": "code",
   "execution_count": 10,
   "metadata": {},
   "outputs": [
    {
     "name": "stdout",
     "output_type": "stream",
     "text": [
      "['isaac60103@gmail.com', 'isaac60103@ntu.edu.com', 'isaac60103@ntu.com.tw', 'isaac60103@hotmail.edu.tw']\n"
     ]
    }
   ],
   "source": [
    "# -*- coding: utf-8 -*-\n",
    "import requests\n",
    "import re\n",
    "response = requests.get('https://isaac60103.github.io/crawl_course/practice/email_list.html')\n",
    "response.encoding = 'utf-8'\n",
    "\n",
    "pattern = \"[A-Za-z0-9._]+@[A-Za-z.]+\"\n",
    "match = re.findall(pattern, response.text)\n",
    "print(match)"
   ]
  },
  {
   "cell_type": "code",
   "execution_count": null,
   "metadata": {
    "collapsed": true
   },
   "outputs": [],
   "source": []
  }
 ],
 "metadata": {
  "kernelspec": {
   "display_name": "Python 3",
   "language": "python",
   "name": "python3"
  },
  "language_info": {
   "codemirror_mode": {
    "name": "ipython",
    "version": 3
   },
   "file_extension": ".py",
   "mimetype": "text/x-python",
   "name": "python",
   "nbconvert_exporter": "python",
   "pygments_lexer": "ipython3",
   "version": "3.7.6"
  }
 },
 "nbformat": 4,
 "nbformat_minor": 2
}
