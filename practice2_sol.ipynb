{
 "cells": [
  {
   "cell_type": "markdown",
   "metadata": {},
   "source": [
    "# input a number greater than 1, detect if this number is prime number or not\n",
    "## if it is prime number, print \"this is a prime number\"\n",
    "## if it is not prime number ,print \"this is not a prime number\""
   ]
  },
  {
   "cell_type": "code",
   "execution_count": 1,
   "metadata": {},
   "outputs": [
    {
     "name": "stdout",
     "output_type": "stream",
     "text": [
      "15 is not a prime number\n"
     ]
    }
   ],
   "source": [
    "num = 15\n",
    "  \n",
    "is_prime = 1\n",
    "    \n",
    "# Iterate from 2 to n / 2  \n",
    "for i in range(2, num//2): \n",
    "    # If num is divisible by any number between\n",
    "    # 2 and n / 2, it is not prime  \n",
    "    if (num % i) == 0:\n",
    "        is_prime = 0\n",
    "        break\n",
    "if(is_prime == 0):\n",
    "    print(num, \"is not a prime number\")\n",
    "else:\n",
    "    print(num, \"is a prime number\") "
   ]
  },
  {
   "cell_type": "markdown",
   "metadata": {},
   "source": [
    "# Given a test string, please switch this string to lower and  calculate frequency of each character"
   ]
  },
  {
   "cell_type": "code",
   "execution_count": 2,
   "metadata": {},
   "outputs": [
    {
     "name": "stdout",
     "output_type": "stream",
     "text": [
      "{'h': 1, 'e': 4, 'l': 2, 'o': 3, ',': 1, ' ': 7, 'i': 3, 'a': 3, 'm': 2, 's': 1, 'c': 2, '.': 1, 'n': 1, 't': 2, 'y': 1, 'u': 1}\n"
     ]
    }
   ],
   "source": [
    "test_str = 'hello, I am isaac. Nice to meet you'\n",
    "test_str = test_str.lower()\n",
    "\n",
    "all_freq = {} \n",
    "  \n",
    "for i in test_str: \n",
    "    if i in all_freq: \n",
    "        all_freq[i] += 1\n",
    "    else: \n",
    "        all_freq[i] = 1\n",
    "print(all_freq)"
   ]
  },
  {
   "cell_type": "markdown",
   "metadata": {},
   "source": [
    "# Find the longest word in the list"
   ]
  },
  {
   "cell_type": "code",
   "execution_count": 4,
   "metadata": {},
   "outputs": [
    {
     "name": "stdout",
     "output_type": "stream",
     "text": [
      "the longest word is the list is: christina\n"
     ]
    }
   ],
   "source": [
    "my_list = ['isaac', 'judy', 'christina', 'ann']\n",
    "max_long_word = my_list[0]\n",
    "\n",
    "for i in my_list:\n",
    "    if len(max_long_word) < len(i):\n",
    "        max_long_word = i\n",
    "print('the longest word is the list is: {}'.format(max_long_word))"
   ]
  },
  {
   "cell_type": "markdown",
   "metadata": {},
   "source": [
    "# Ask the user for a string and print out whether this string is a palindrome or not. (A palindrome is a string that reads the same forwards and backwards.)"
   ]
  },
  {
   "cell_type": "code",
   "execution_count": 1,
   "metadata": {},
   "outputs": [
    {
     "name": "stdout",
     "output_type": "stream",
     "text": [
      "give me a word:\n",
      "abcd\n",
      "This is NOT a Palindrome\n"
     ]
    }
   ],
   "source": [
    "word = input('give me a word:\\n')\n",
    "reverse_word = ''\n",
    "for i in range(len(word)):\n",
    "    reverse_word += word[len(word)-1-i]\n",
    "\n",
    "if reverse_word == word:\n",
    "    print('This is a Palindrome')\n",
    "else:\n",
    "    print('This is NOT a Palindrome')"
   ]
  },
  {
   "cell_type": "code",
   "execution_count": null,
   "metadata": {},
   "outputs": [],
   "source": []
  }
 ],
 "metadata": {
  "kernelspec": {
   "display_name": "Python 3",
   "language": "python",
   "name": "python3"
  },
  "language_info": {
   "codemirror_mode": {
    "name": "ipython",
    "version": 3
   },
   "file_extension": ".py",
   "mimetype": "text/x-python",
   "name": "python",
   "nbconvert_exporter": "python",
   "pygments_lexer": "ipython3",
   "version": "3.7.6"
  }
 },
 "nbformat": 4,
 "nbformat_minor": 4
}
